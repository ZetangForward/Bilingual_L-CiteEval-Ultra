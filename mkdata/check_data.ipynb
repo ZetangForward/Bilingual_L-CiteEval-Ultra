{
 "cells": [
  {
   "cell_type": "code",
   "execution_count": 2,
   "metadata": {},
   "outputs": [
    {
     "name": "stderr",
     "output_type": "stream",
     "text": [
      "/mnt/petrelfs/tangzecheng/anaconda3/envs/zecheng/lib/python3.10/site-packages/tqdm/auto.py:21: TqdmWarning: IProgress not found. Please update jupyter and ipywidgets. See https://ipywidgets.readthedocs.io/en/stable/user_install.html\n",
      "  from .autonotebook import tqdm as notebook_tqdm\n"
     ]
    }
   ],
   "source": [
    "from datasets import load_dataset"
   ]
  },
  {
   "cell_type": "code",
   "execution_count": 8,
   "metadata": {},
   "outputs": [
    {
     "name": "stderr",
     "output_type": "stream",
     "text": [
      "Repo card metadata block was not found. Setting CardData to empty.\n"
     ]
    }
   ],
   "source": [
    "datas = load_dataset(\"/mnt/petrelfs/tangzecheng/NLPCC-MH\",split='test')"
   ]
  },
  {
   "cell_type": "code",
   "execution_count": 9,
   "metadata": {},
   "outputs": [
    {
     "data": {
      "text/plain": [
       "1000"
      ]
     },
     "execution_count": 9,
     "metadata": {},
     "output_type": "execute_result"
    }
   ],
   "source": [
    "len(datas)"
   ]
  },
  {
   "cell_type": "code",
   "execution_count": 6,
   "metadata": {},
   "outputs": [],
   "source": [
    "tmp = datas.filter(lambda x:len(x['path'])==3)\n"
   ]
  },
  {
   "cell_type": "code",
   "execution_count": 50,
   "metadata": {},
   "outputs": [
    {
     "data": {
      "text/plain": [
       "100"
      ]
     },
     "execution_count": 50,
     "metadata": {},
     "output_type": "execute_result"
    }
   ],
   "source": [
    "len([2,3,4,5,6,89,10,11,1314,15,17,18,19,22,\n",
    "     23,24,\n",
    "    #  28,\n",
    "     31,32,38,39,43,45,47,48,58,63,66,70,79,80,82,83,85,87,\n",
    "     90, 92, 96, 103, 114, 117, 123,126, 141, 148, 149,\n",
    "     153,156, 157,161, 162,170, 172, 175,  180, 182, 183, 184, 194, 199, 202, 203, 204, 206, 208, 214, 217, 218, 220, 223, 225, 227, 238, 244, 246, 251, 253, 257, 259, 268, 275, 276,277,279, 280, 284, 286, 288, 294, 306,\n",
    "     309, 318, 335, 336, 337, 338, 339, 341, 342, 343, 346])"
   ]
  },
  {
   "cell_type": "code",
   "execution_count": null,
   "metadata": {},
   "outputs": [],
   "source": [
    "len([])"
   ]
  },
  {
   "cell_type": "code",
   "execution_count": 11,
   "metadata": {},
   "outputs": [
    {
     "data": {
      "text/plain": [
       "{'q': '谁是历届世界杯冠军的别称的主办机构的现任主席吗？',\n",
       " 'path': [['历届世界杯冠军 ||| 3533269', '别称', '国际足联世界杯 ||| 2777004'],\n",
       "  ['国际足联世界杯 ||| 2777004', '主办机构', '国际足球联合会 ||| 4227224'],\n",
       "  ['国际足球联合会 ||| 4227224', '现任主席', '詹尼·因凡蒂诺 ||| 0']]}"
      ]
     },
     "execution_count": 11,
     "metadata": {},
     "output_type": "execute_result"
    }
   ],
   "source": [
    "tmp[0]"
   ]
  },
  {
   "cell_type": "code",
   "execution_count": 19,
   "metadata": {},
   "outputs": [],
   "source": [
    "from deploy import read_jsonl\n",
    "sds = read_jsonl(\"/mnt/petrelfs/tangzecheng/Bilingual_L-CiteEval-Ultra/data/zh/qa2_short.jsonl\")\n",
    "ids = read_jsonl(\"/mnt/petrelfs/tangzecheng/Bilingual_L-CiteEval-Ultra/data/zh/qa2_interference.jsonl\")"
   ]
  },
  {
   "cell_type": "code",
   "execution_count": 22,
   "metadata": {},
   "outputs": [
    {
     "data": {
      "text/plain": [
       "{'question': '你知道自然之步的作者是封闭还是开放的呀？',\n",
       " 'answer': '半封闭式',\n",
       " 'facts': [['自然之步', '作者', '龙门天下'], ['龙门天下', '社区管理形式', '半封闭式']],\n",
       " 'output': ['自然之步的作者龙门天下对作品的创作过程采取了较为开放的态度。', '自然之步的作者龙门天下管理社区采取的是半封闭式的方式。']}"
      ]
     },
     "execution_count": 22,
     "metadata": {},
     "output_type": "execute_result"
    }
   ],
   "source": [
    "i = 2\n",
    "sds[i]# ids[i]['question']"
   ]
  },
  {
   "cell_type": "code",
   "execution_count": 7,
   "metadata": {},
   "outputs": [
    {
     "data": {
      "text/plain": [
       "793"
      ]
     },
     "execution_count": 7,
     "metadata": {},
     "output_type": "execute_result"
    }
   ],
   "source": [
    "len(tmp)"
   ]
  },
  {
   "cell_type": "code",
   "execution_count": 32,
   "metadata": {},
   "outputs": [
    {
     "data": {
      "text/plain": [
       "2"
      ]
     },
     "execution_count": 32,
     "metadata": {},
     "output_type": "execute_result"
    }
   ],
   "source": [
    "1<<1"
   ]
  },
  {
   "cell_type": "code",
   "execution_count": 44,
   "metadata": {},
   "outputs": [
    {
     "data": {
      "text/plain": [
       "['2', 'x', 'x']"
      ]
     },
     "execution_count": 44,
     "metadata": {},
     "output_type": "execute_result"
    }
   ],
   "source": [
    "import random\n",
    "random.choices(['2','x'],k = 2)"
   ]
  },
  {
   "cell_type": "code",
   "execution_count": 45,
   "metadata": {},
   "outputs": [],
   "source": [
    "\n",
    "from transformers import AutoTokenizer\n",
    "\n",
    "tokenizer = AutoTokenizer.from_pretrained(\"Qwen/Qwen2.5-32B-Instruct\")"
   ]
  },
  {
   "cell_type": "code",
   "execution_count": 47,
   "metadata": {},
   "outputs": [
    {
     "data": {
      "text/plain": [
       "[108386]"
      ]
     },
     "execution_count": 47,
     "metadata": {},
     "output_type": "execute_result"
    }
   ],
   "source": [
    "tokenizer(\"你好\",)['input_ids']"
   ]
  },
  {
   "cell_type": "code",
   "execution_count": 36,
   "metadata": {},
   "outputs": [
    {
     "data": {
      "text/plain": [
       "[(1, 3, 5),\n",
       " (1, 3, 6),\n",
       " (1, 3, 7),\n",
       " (1, 3, 8),\n",
       " (1, 3, 9),\n",
       " (1, 4, 5),\n",
       " (1, 4, 6),\n",
       " (1, 4, 7),\n",
       " (1, 4, 8),\n",
       " (1, 4, 9),\n",
       " (1, 5, 6),\n",
       " (1, 5, 7),\n",
       " (1, 5, 8),\n",
       " (1, 5, 9),\n",
       " (1, 6, 7),\n",
       " (1, 6, 8),\n",
       " (1, 6, 9),\n",
       " (1, 7, 8),\n",
       " (1, 7, 9),\n",
       " (1, 8, 9),\n",
       " (2, 3, 4),\n",
       " (2, 3, 5),\n",
       " (2, 3, 6),\n",
       " (2, 3, 7),\n",
       " (2, 3, 8),\n",
       " (2, 3, 9),\n",
       " (2, 4, 5),\n",
       " (2, 4, 6),\n",
       " (2, 4, 7),\n",
       " (2, 4, 8),\n",
       " (2, 4, 9),\n",
       " (2, 5, 6),\n",
       " (2, 5, 7),\n",
       " (2, 5, 8),\n",
       " (2, 5, 9),\n",
       " (2, 6, 7),\n",
       " (2, 6, 8),\n",
       " (2, 6, 9),\n",
       " (2, 7, 8),\n",
       " (2, 7, 9),\n",
       " (2, 8, 9),\n",
       " (3, 4, 5),\n",
       " (3, 4, 6),\n",
       " (3, 4, 7),\n",
       " (3, 4, 8),\n",
       " (3, 4, 9),\n",
       " (3, 5, 6),\n",
       " (3, 5, 7),\n",
       " (3, 5, 8),\n",
       " (3, 5, 9),\n",
       " (3, 6, 7),\n",
       " (3, 6, 8),\n",
       " (3, 6, 9),\n",
       " (3, 7, 8),\n",
       " (3, 7, 9),\n",
       " (3, 8, 9),\n",
       " (4, 5, 6),\n",
       " (4, 5, 7),\n",
       " (4, 5, 8),\n",
       " (4, 5, 9),\n",
       " (4, 6, 7),\n",
       " (4, 6, 8),\n",
       " (4, 6, 9),\n",
       " (4, 7, 8),\n",
       " (4, 7, 9),\n",
       " (4, 8, 9),\n",
       " (5, 6, 7),\n",
       " (5, 6, 8)]"
      ]
     },
     "execution_count": 36,
     "metadata": {},
     "output_type": "execute_result"
    }
   ],
   "source": [
    "import itertools\n",
    "evidence= [1,1,1]\n",
    "combinations = list(itertools.combinations(range(1,10),len(evidence)))\n",
    "combinations = combinations[(1<<len(evidence)): -(1<<len(evidence))]\n",
    "combinations        \n"
   ]
  },
  {
   "cell_type": "code",
   "execution_count": 31,
   "metadata": {},
   "outputs": [
    {
     "data": {
      "text/plain": [
       "[(0, 1, 2),\n",
       " (0, 1, 3),\n",
       " (0, 1, 4),\n",
       " (0, 1, 5),\n",
       " (0, 1, 6),\n",
       " (0, 1, 7),\n",
       " (0, 1, 8),\n",
       " (0, 1, 9),\n",
       " (0, 2, 3),\n",
       " (0, 2, 4),\n",
       " (0, 2, 5),\n",
       " (0, 2, 6),\n",
       " (0, 2, 7),\n",
       " (0, 2, 8),\n",
       " (0, 2, 9),\n",
       " (0, 3, 4),\n",
       " (0, 3, 5),\n",
       " (0, 3, 6),\n",
       " (0, 3, 7),\n",
       " (0, 3, 8),\n",
       " (0, 3, 9),\n",
       " (0, 4, 5),\n",
       " (0, 4, 6),\n",
       " (0, 4, 7),\n",
       " (0, 4, 8),\n",
       " (0, 4, 9),\n",
       " (0, 5, 6),\n",
       " (0, 5, 7),\n",
       " (0, 5, 8),\n",
       " (0, 5, 9),\n",
       " (0, 6, 7),\n",
       " (0, 6, 8),\n",
       " (0, 6, 9),\n",
       " (0, 7, 8),\n",
       " (0, 7, 9),\n",
       " (0, 8, 9),\n",
       " (1, 2, 3),\n",
       " (1, 2, 4),\n",
       " (1, 2, 5),\n",
       " (1, 2, 6),\n",
       " (1, 2, 7),\n",
       " (1, 2, 8),\n",
       " (1, 2, 9),\n",
       " (1, 3, 4),\n",
       " (1, 3, 5),\n",
       " (1, 3, 6),\n",
       " (1, 3, 7),\n",
       " (1, 3, 8),\n",
       " (1, 3, 9),\n",
       " (1, 4, 5),\n",
       " (1, 4, 6),\n",
       " (1, 4, 7),\n",
       " (1, 4, 8),\n",
       " (1, 4, 9),\n",
       " (1, 5, 6),\n",
       " (1, 5, 7),\n",
       " (1, 5, 8),\n",
       " (1, 5, 9),\n",
       " (1, 6, 7),\n",
       " (1, 6, 8),\n",
       " (1, 6, 9),\n",
       " (1, 7, 8),\n",
       " (1, 7, 9),\n",
       " (1, 8, 9),\n",
       " (2, 3, 4),\n",
       " (2, 3, 5),\n",
       " (2, 3, 6),\n",
       " (2, 3, 7),\n",
       " (2, 3, 8),\n",
       " (2, 3, 9),\n",
       " (2, 4, 5),\n",
       " (2, 4, 6),\n",
       " (2, 4, 7),\n",
       " (2, 4, 8),\n",
       " (2, 4, 9),\n",
       " (2, 5, 6),\n",
       " (2, 5, 7),\n",
       " (2, 5, 8),\n",
       " (2, 5, 9),\n",
       " (2, 6, 7),\n",
       " (2, 6, 8),\n",
       " (2, 6, 9),\n",
       " (2, 7, 8),\n",
       " (2, 7, 9),\n",
       " (2, 8, 9),\n",
       " (3, 4, 5),\n",
       " (3, 4, 6),\n",
       " (3, 4, 7),\n",
       " (3, 4, 8),\n",
       " (3, 4, 9),\n",
       " (3, 5, 6),\n",
       " (3, 5, 7),\n",
       " (3, 5, 8),\n",
       " (3, 5, 9),\n",
       " (3, 6, 7),\n",
       " (3, 6, 8),\n",
       " (3, 6, 9),\n",
       " (3, 7, 8),\n",
       " (3, 7, 9),\n",
       " (3, 8, 9),\n",
       " (4, 5, 6),\n",
       " (4, 5, 7),\n",
       " (4, 5, 8),\n",
       " (4, 5, 9),\n",
       " (4, 6, 7),\n",
       " (4, 6, 8),\n",
       " (4, 6, 9),\n",
       " (4, 7, 8),\n",
       " (4, 7, 9),\n",
       " (4, 8, 9),\n",
       " (5, 6, 7),\n",
       " (5, 6, 8),\n",
       " (5, 6, 9),\n",
       " (5, 7, 8),\n",
       " (5, 7, 9),\n",
       " (5, 8, 9),\n",
       " (6, 7, 8),\n",
       " (6, 7, 9),\n",
       " (6, 8, 9),\n",
       " (7, 8, 9)]"
      ]
     },
     "execution_count": 31,
     "metadata": {},
     "output_type": "execute_result"
    }
   ],
   "source": [
    "import itertools\n",
    "\n",
    "list(itertools.combinations(range(10),3))"
   ]
  },
  {
   "cell_type": "code",
   "execution_count": 19,
   "metadata": {},
   "outputs": [
    {
     "data": {
      "text/plain": [
       "4000"
      ]
     },
     "execution_count": 19,
     "metadata": {},
     "output_type": "execute_result"
    }
   ],
   "source": [
    "len(datas['train'])"
   ]
  },
  {
   "cell_type": "code",
   "execution_count": 18,
   "metadata": {},
   "outputs": [
    {
     "name": "stdout",
     "output_type": "stream",
     "text": [
      "{'q': '柳江的主要支流的发源地是哪里？', 'path': [['柳江 ||| 2970218', '主要支流', '寨蒿河 ||| 7476446'], ['寨蒿河 ||| 7476446', '发源于', '贵州省黎平县高洋乡 ||| 0']]}\n"
     ]
    }
   ],
   "source": [
    "for i in range(len(datas['train'])):\n",
    "    print(datas['train'][i])\n",
    "    break\n",
    "\n",
    "    # st.add(len(datas['train'][i]['path']))"
   ]
  },
  {
   "cell_type": "code",
   "execution_count": 15,
   "metadata": {},
   "outputs": [
    {
     "data": {
      "text/plain": [
       "'[0, 3, 4]'"
      ]
     },
     "execution_count": 15,
     "metadata": {},
     "output_type": "execute_result"
    }
   ],
   "source": [
    "str([0,3,4])"
   ]
  },
  {
   "cell_type": "code",
   "execution_count": 12,
   "metadata": {},
   "outputs": [],
   "source": [
    "data  = datas['train'][0]"
   ]
  },
  {
   "cell_type": "code",
   "execution_count": 14,
   "metadata": {},
   "outputs": [
    {
     "data": {
      "text/plain": [
       "[['柳江 ||| 2970218', '主要支流', '寨蒿河 ||| 7476446'],\n",
       " ['寨蒿河 ||| 7476446', '发源于', '贵州省黎平县高洋乡 ||| 0']]"
      ]
     },
     "execution_count": 14,
     "metadata": {},
     "output_type": "execute_result"
    }
   ],
   "source": [
    "data['path']"
   ]
  },
  {
   "cell_type": "code",
   "execution_count": null,
   "metadata": {},
   "outputs": [],
   "source": []
  }
 ],
 "metadata": {
  "kernelspec": {
   "display_name": "zecheng",
   "language": "python",
   "name": "python3"
  },
  "language_info": {
   "codemirror_mode": {
    "name": "ipython",
    "version": 3
   },
   "file_extension": ".py",
   "mimetype": "text/x-python",
   "name": "python",
   "nbconvert_exporter": "python",
   "pygments_lexer": "ipython3",
   "version": "3.10.4"
  }
 },
 "nbformat": 4,
 "nbformat_minor": 2
}
